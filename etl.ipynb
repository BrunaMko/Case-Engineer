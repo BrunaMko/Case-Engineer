{
 "cells": [
  {
   "cell_type": "code",
   "execution_count": 27,
   "metadata": {},
   "outputs": [],
   "source": [
    "import pandas as pd"
   ]
  },
  {
   "cell_type": "markdown",
   "metadata": {},
   "source": [
    "**Extract**\n"
   ]
  },
  {
   "cell_type": "code",
   "execution_count": 28,
   "metadata": {},
   "outputs": [
    {
     "name": "stdout",
     "output_type": "stream",
     "text": [
      "Erro de decodificação com a codificação: utf-8\n",
      "Arquivo lido com sucesso usando a codificação: latin1\n"
     ]
    }
   ],
   "source": [
    "# Caminho para o arquivo CSV\n",
    "file_path = '../data_raw/gdvDespesasExcel.csv'\n",
    "file_path2 = '../data_raw/gdvReceitasExcel.csv'\n",
    "\n",
    "encodings = ['utf-8', 'latin1', 'iso-8859-1', 'utf-16', 'cp1252']\n",
    "\n",
    "# Tentar ler o arquivo CSV com diferentes codificações\n",
    "for encoding in encodings:\n",
    "    try:\n",
    "        despesas = pd.read_csv(file_path, encoding=encoding)\n",
    "        receitas = pd.read_csv(file_path2, encoding=encoding)                     \n",
    "        print(f\"Arquivo lido com sucesso usando a codificação: {encoding}\")\n",
    "        break\n",
    "    except UnicodeDecodeError:\n",
    "        print(f\"Erro de decodificação com a codificação: {encoding}\")\n",
    "    except Exception as e:\n",
    "        print(f\"Ocorreu um erro: {e}\")"
   ]
  },
  {
   "cell_type": "markdown",
   "metadata": {},
   "source": [
    "**Transform**\n"
   ]
  },
  {
   "cell_type": "code",
   "execution_count": 29,
   "metadata": {},
   "outputs": [
    {
     "data": {
      "text/html": [
       "<div>\n",
       "<style scoped>\n",
       "    .dataframe tbody tr th:only-of-type {\n",
       "        vertical-align: middle;\n",
       "    }\n",
       "\n",
       "    .dataframe tbody tr th {\n",
       "        vertical-align: top;\n",
       "    }\n",
       "\n",
       "    .dataframe thead th {\n",
       "        text-align: right;\n",
       "    }\n",
       "</style>\n",
       "<table border=\"1\" class=\"dataframe\">\n",
       "  <thead>\n",
       "    <tr style=\"text-align: right;\">\n",
       "      <th></th>\n",
       "      <th>Fonte de Recursos</th>\n",
       "      <th>Receita</th>\n",
       "      <th>Arrecadado até 02/02/2024</th>\n",
       "      <th>Unnamed: 3</th>\n",
       "    </tr>\n",
       "  </thead>\n",
       "  <tbody>\n",
       "    <tr>\n",
       "      <th>0</th>\n",
       "      <td>001 - TESOURO-DOT.INICIAL E CRED.SUPLEMENTAR</td>\n",
       "      <td>11130111 - IRRF - IMP.RENDA PESSOA FISICA-PRIN...</td>\n",
       "      <td>4.267.858.335,83</td>\n",
       "      <td>NaN</td>\n",
       "    </tr>\n",
       "    <tr>\n",
       "      <th>1</th>\n",
       "      <td>001 - TESOURO-DOT.INICIAL E CRED.SUPLEMENTAR</td>\n",
       "      <td>11130311 - IRRF-IMP. RENDA RET. FTE-TRABALHO-P...</td>\n",
       "      <td>4.323.772.997,93</td>\n",
       "      <td>NaN</td>\n",
       "    </tr>\n",
       "    <tr>\n",
       "      <th>2</th>\n",
       "      <td>001 - TESOURO-DOT.INICIAL E CRED.SUPLEMENTAR</td>\n",
       "      <td>11130341 - IRRF-OUTROS RENDIMENTOS-PRINCIPAL</td>\n",
       "      <td>123.071.158,14</td>\n",
       "      <td>NaN</td>\n",
       "    </tr>\n",
       "    <tr>\n",
       "      <th>3</th>\n",
       "      <td>001 - TESOURO-DOT.INICIAL E CRED.SUPLEMENTAR</td>\n",
       "      <td>11180121 - IPVA - IMP. PROPR. VEIC. AUTOM  - P...</td>\n",
       "      <td>8.202.995.933,47</td>\n",
       "      <td>NaN</td>\n",
       "    </tr>\n",
       "    <tr>\n",
       "      <th>4</th>\n",
       "      <td>001 - TESOURO-DOT.INICIAL E CRED.SUPLEMENTAR</td>\n",
       "      <td>11180122 - IPVA - MULTAS E  JUROS</td>\n",
       "      <td>6.927,39</td>\n",
       "      <td>NaN</td>\n",
       "    </tr>\n",
       "  </tbody>\n",
       "</table>\n",
       "</div>"
      ],
      "text/plain": [
       "                              Fonte de Recursos  \\\n",
       "0  001 - TESOURO-DOT.INICIAL E CRED.SUPLEMENTAR   \n",
       "1  001 - TESOURO-DOT.INICIAL E CRED.SUPLEMENTAR   \n",
       "2  001 - TESOURO-DOT.INICIAL E CRED.SUPLEMENTAR   \n",
       "3  001 - TESOURO-DOT.INICIAL E CRED.SUPLEMENTAR   \n",
       "4  001 - TESOURO-DOT.INICIAL E CRED.SUPLEMENTAR   \n",
       "\n",
       "                                             Receita  \\\n",
       "0  11130111 - IRRF - IMP.RENDA PESSOA FISICA-PRIN...   \n",
       "1  11130311 - IRRF-IMP. RENDA RET. FTE-TRABALHO-P...   \n",
       "2       11130341 - IRRF-OUTROS RENDIMENTOS-PRINCIPAL   \n",
       "3  11180121 - IPVA - IMP. PROPR. VEIC. AUTOM  - P...   \n",
       "4                  11180122 - IPVA - MULTAS E  JUROS   \n",
       "\n",
       "  Arrecadado até 02/02/2024  Unnamed: 3  \n",
       "0          4.267.858.335,83         NaN  \n",
       "1          4.323.772.997,93         NaN  \n",
       "2            123.071.158,14         NaN  \n",
       "3          8.202.995.933,47         NaN  \n",
       "4                  6.927,39         NaN  "
      ]
     },
     "execution_count": 29,
     "metadata": {},
     "output_type": "execute_result"
    }
   ],
   "source": [
    "receitas.head()\n"
   ]
  },
  {
   "cell_type": "code",
   "execution_count": 30,
   "metadata": {},
   "outputs": [
    {
     "data": {
      "text/html": [
       "<div>\n",
       "<style scoped>\n",
       "    .dataframe tbody tr th:only-of-type {\n",
       "        vertical-align: middle;\n",
       "    }\n",
       "\n",
       "    .dataframe tbody tr th {\n",
       "        vertical-align: top;\n",
       "    }\n",
       "\n",
       "    .dataframe thead th {\n",
       "        text-align: right;\n",
       "    }\n",
       "</style>\n",
       "<table border=\"1\" class=\"dataframe\">\n",
       "  <thead>\n",
       "    <tr style=\"text-align: right;\">\n",
       "      <th></th>\n",
       "      <th>Fonte de Recursos</th>\n",
       "      <th>Despesa</th>\n",
       "      <th>Liquidado</th>\n",
       "      <th>Unnamed: 3</th>\n",
       "    </tr>\n",
       "  </thead>\n",
       "  <tbody>\n",
       "    <tr>\n",
       "      <th>0</th>\n",
       "      <td>001 - TESOURO-DOT.INICIAL E CRED.SUPLEMENTAR</td>\n",
       "      <td>31900119 - ATRASADOS-OUTROS PODERES/MINIST.PUB...</td>\n",
       "      <td>79.760.504,67</td>\n",
       "      <td>NaN</td>\n",
       "    </tr>\n",
       "    <tr>\n",
       "      <th>1</th>\n",
       "      <td>001 - TESOURO-DOT.INICIAL E CRED.SUPLEMENTAR</td>\n",
       "      <td>31900124 - COMPLEMENTACAO DE APOSENTADORIA</td>\n",
       "      <td>1.850.834.374,26</td>\n",
       "      <td>NaN</td>\n",
       "    </tr>\n",
       "    <tr>\n",
       "      <th>2</th>\n",
       "      <td>001 - TESOURO-DOT.INICIAL E CRED.SUPLEMENTAR</td>\n",
       "      <td>31900125 - COMPLEMENTACAO DE APOSENTADORIA - 1...</td>\n",
       "      <td>124.536.202,87</td>\n",
       "      <td>NaN</td>\n",
       "    </tr>\n",
       "    <tr>\n",
       "      <th>3</th>\n",
       "      <td>001 - TESOURO-DOT.INICIAL E CRED.SUPLEMENTAR</td>\n",
       "      <td>31900325 - COMPLEMENTACAO DE PENSAO</td>\n",
       "      <td>10.948.297,00</td>\n",
       "      <td>NaN</td>\n",
       "    </tr>\n",
       "    <tr>\n",
       "      <th>4</th>\n",
       "      <td>001 - TESOURO-DOT.INICIAL E CRED.SUPLEMENTAR</td>\n",
       "      <td>31900326 - COMPLEMENTACAO DE PENSAO - 13º SALARIO</td>\n",
       "      <td>521.632,30</td>\n",
       "      <td>NaN</td>\n",
       "    </tr>\n",
       "  </tbody>\n",
       "</table>\n",
       "</div>"
      ],
      "text/plain": [
       "                              Fonte de Recursos  \\\n",
       "0  001 - TESOURO-DOT.INICIAL E CRED.SUPLEMENTAR   \n",
       "1  001 - TESOURO-DOT.INICIAL E CRED.SUPLEMENTAR   \n",
       "2  001 - TESOURO-DOT.INICIAL E CRED.SUPLEMENTAR   \n",
       "3  001 - TESOURO-DOT.INICIAL E CRED.SUPLEMENTAR   \n",
       "4  001 - TESOURO-DOT.INICIAL E CRED.SUPLEMENTAR   \n",
       "\n",
       "                                             Despesa                Liquidado  \\\n",
       "0  31900119 - ATRASADOS-OUTROS PODERES/MINIST.PUB...            79.760.504,67   \n",
       "1         31900124 - COMPLEMENTACAO DE APOSENTADORIA         1.850.834.374,26   \n",
       "2  31900125 - COMPLEMENTACAO DE APOSENTADORIA - 1...           124.536.202,87   \n",
       "3                31900325 - COMPLEMENTACAO DE PENSAO            10.948.297,00   \n",
       "4  31900326 - COMPLEMENTACAO DE PENSAO - 13º SALARIO               521.632,30   \n",
       "\n",
       "   Unnamed: 3  \n",
       "0         NaN  \n",
       "1         NaN  \n",
       "2         NaN  \n",
       "3         NaN  \n",
       "4         NaN  "
      ]
     },
     "execution_count": 30,
     "metadata": {},
     "output_type": "execute_result"
    }
   ],
   "source": [
    "despesas.head()"
   ]
  },
  {
   "cell_type": "code",
   "execution_count": 31,
   "metadata": {},
   "outputs": [
    {
     "name": "stdout",
     "output_type": "stream",
     "text": [
      "<class 'pandas.core.frame.DataFrame'>\n",
      "RangeIndex: 2035 entries, 0 to 2034\n",
      "Data columns (total 4 columns):\n",
      " #   Column             Non-Null Count  Dtype  \n",
      "---  ------             --------------  -----  \n",
      " 0   Fonte de Recursos  2034 non-null   object \n",
      " 1   Despesa            2035 non-null   object \n",
      " 2   Liquidado          2035 non-null   object \n",
      " 3   Unnamed: 3         0 non-null      float64\n",
      "dtypes: float64(1), object(3)\n",
      "memory usage: 63.7+ KB\n"
     ]
    }
   ],
   "source": [
    "despesas.info()"
   ]
  },
  {
   "cell_type": "code",
   "execution_count": 32,
   "metadata": {},
   "outputs": [
    {
     "name": "stdout",
     "output_type": "stream",
     "text": [
      "<class 'pandas.core.frame.DataFrame'>\n",
      "RangeIndex: 285 entries, 0 to 284\n",
      "Data columns (total 4 columns):\n",
      " #   Column                     Non-Null Count  Dtype  \n",
      "---  ------                     --------------  -----  \n",
      " 0   Fonte de Recursos          284 non-null    object \n",
      " 1   Receita                    285 non-null    object \n",
      " 2   Arrecadado até 02/02/2024  285 non-null    object \n",
      " 3   Unnamed: 3                 0 non-null      float64\n",
      "dtypes: float64(1), object(3)\n",
      "memory usage: 9.0+ KB\n"
     ]
    }
   ],
   "source": [
    "receitas.info()"
   ]
  },
  {
   "cell_type": "code",
   "execution_count": 33,
   "metadata": {},
   "outputs": [],
   "source": [
    "despesas = despesas.drop(columns= ['Unnamed: 3'])\n",
    "receitas = receitas.drop(columns= ['Unnamed: 3'])"
   ]
  },
  {
   "cell_type": "code",
   "execution_count": 34,
   "metadata": {},
   "outputs": [],
   "source": [
    "#Excluir linhas nulas\n",
    "despesas = despesas.dropna()\n",
    "receitas = receitas.dropna()\n"
   ]
  },
  {
   "cell_type": "code",
   "execution_count": 35,
   "metadata": {},
   "outputs": [
    {
     "name": "stdout",
     "output_type": "stream",
     "text": [
      "<class 'pandas.core.frame.DataFrame'>\n",
      "Index: 2034 entries, 0 to 2033\n",
      "Data columns (total 3 columns):\n",
      " #   Column             Non-Null Count  Dtype \n",
      "---  ------             --------------  ----- \n",
      " 0   Fonte de Recursos  2034 non-null   object\n",
      " 1   Despesa            2034 non-null   object\n",
      " 2   Liquidado          2034 non-null   object\n",
      "dtypes: object(3)\n",
      "memory usage: 63.6+ KB\n"
     ]
    }
   ],
   "source": [
    "despesas.info()"
   ]
  },
  {
   "cell_type": "code",
   "execution_count": 36,
   "metadata": {},
   "outputs": [
    {
     "name": "stdout",
     "output_type": "stream",
     "text": [
      "<class 'pandas.core.frame.DataFrame'>\n",
      "Index: 284 entries, 0 to 283\n",
      "Data columns (total 3 columns):\n",
      " #   Column                     Non-Null Count  Dtype \n",
      "---  ------                     --------------  ----- \n",
      " 0   Fonte de Recursos          284 non-null    object\n",
      " 1   Receita                    284 non-null    object\n",
      " 2   Arrecadado até 02/02/2024  284 non-null    object\n",
      "dtypes: object(3)\n",
      "memory usage: 8.9+ KB\n"
     ]
    }
   ],
   "source": [
    "receitas.info()"
   ]
  },
  {
   "cell_type": "code",
   "execution_count": 37,
   "metadata": {},
   "outputs": [],
   "source": [
    "# Limpar a coluna 'Valor' para remover pontos e substituir vírgula por ponto além de mudar o tipo da coluna para float\n",
    "receitas['Arrecadado até 02/02/2024'] = receitas['Arrecadado até 02/02/2024'].str.replace('.', '').str.replace(',', '.').astype(float)\n",
    "despesas['Liquidado'] = despesas['Liquidado'].str.replace('.', '').str.replace(',', '.').astype(float)\n",
    "                            "
   ]
  },
  {
   "cell_type": "code",
   "execution_count": 38,
   "metadata": {},
   "outputs": [
    {
     "name": "stdout",
     "output_type": "stream",
     "text": [
      "<class 'pandas.core.frame.DataFrame'>\n",
      "Index: 284 entries, 0 to 283\n",
      "Data columns (total 3 columns):\n",
      " #   Column                     Non-Null Count  Dtype  \n",
      "---  ------                     --------------  -----  \n",
      " 0   Fonte de Recursos          284 non-null    object \n",
      " 1   Receita                    284 non-null    object \n",
      " 2   Arrecadado até 02/02/2024  284 non-null    float64\n",
      "dtypes: float64(1), object(2)\n",
      "memory usage: 8.9+ KB\n",
      "None\n",
      "<class 'pandas.core.frame.DataFrame'>\n",
      "Index: 2034 entries, 0 to 2033\n",
      "Data columns (total 3 columns):\n",
      " #   Column             Non-Null Count  Dtype  \n",
      "---  ------             --------------  -----  \n",
      " 0   Fonte de Recursos  2034 non-null   object \n",
      " 1   Despesa            2034 non-null   object \n",
      " 2   Liquidado          2034 non-null   float64\n",
      "dtypes: float64(1), object(2)\n",
      "memory usage: 63.6+ KB\n",
      "None\n"
     ]
    }
   ],
   "source": [
    "print(receitas.info())\n",
    "print(despesas.info())\n"
   ]
  },
  {
   "cell_type": "code",
   "execution_count": 39,
   "metadata": {},
   "outputs": [],
   "source": [
    "df_merge = pd.merge(despesas, receitas, on = 'Fonte de Recursos', how = 'outer')"
   ]
  },
  {
   "cell_type": "code",
   "execution_count": 40,
   "metadata": {},
   "outputs": [
    {
     "data": {
      "text/html": [
       "<div>\n",
       "<style scoped>\n",
       "    .dataframe tbody tr th:only-of-type {\n",
       "        vertical-align: middle;\n",
       "    }\n",
       "\n",
       "    .dataframe tbody tr th {\n",
       "        vertical-align: top;\n",
       "    }\n",
       "\n",
       "    .dataframe thead th {\n",
       "        text-align: right;\n",
       "    }\n",
       "</style>\n",
       "<table border=\"1\" class=\"dataframe\">\n",
       "  <thead>\n",
       "    <tr style=\"text-align: right;\">\n",
       "      <th></th>\n",
       "      <th>Fonte de Recursos</th>\n",
       "      <th>Despesa</th>\n",
       "      <th>Liquidado</th>\n",
       "      <th>Receita</th>\n",
       "      <th>Arrecadado até 02/02/2024</th>\n",
       "    </tr>\n",
       "  </thead>\n",
       "  <tbody>\n",
       "    <tr>\n",
       "      <th>0</th>\n",
       "      <td>001 - TESOURO-DOT.INICIAL E CRED.SUPLEMENTAR</td>\n",
       "      <td>31900119 - ATRASADOS-OUTROS PODERES/MINIST.PUB...</td>\n",
       "      <td>79760504.67</td>\n",
       "      <td>11130111 - IRRF - IMP.RENDA PESSOA FISICA-PRIN...</td>\n",
       "      <td>4267858335.83</td>\n",
       "    </tr>\n",
       "    <tr>\n",
       "      <th>1</th>\n",
       "      <td>001 - TESOURO-DOT.INICIAL E CRED.SUPLEMENTAR</td>\n",
       "      <td>31900119 - ATRASADOS-OUTROS PODERES/MINIST.PUB...</td>\n",
       "      <td>79760504.67</td>\n",
       "      <td>11130311 - IRRF-IMP. RENDA RET. FTE-TRABALHO-P...</td>\n",
       "      <td>4323772997.93</td>\n",
       "    </tr>\n",
       "    <tr>\n",
       "      <th>2</th>\n",
       "      <td>001 - TESOURO-DOT.INICIAL E CRED.SUPLEMENTAR</td>\n",
       "      <td>31900119 - ATRASADOS-OUTROS PODERES/MINIST.PUB...</td>\n",
       "      <td>79760504.67</td>\n",
       "      <td>11130341 - IRRF-OUTROS RENDIMENTOS-PRINCIPAL</td>\n",
       "      <td>123071158.14</td>\n",
       "    </tr>\n",
       "    <tr>\n",
       "      <th>3</th>\n",
       "      <td>001 - TESOURO-DOT.INICIAL E CRED.SUPLEMENTAR</td>\n",
       "      <td>31900119 - ATRASADOS-OUTROS PODERES/MINIST.PUB...</td>\n",
       "      <td>79760504.67</td>\n",
       "      <td>11180121 - IPVA - IMP. PROPR. VEIC. AUTOM  - P...</td>\n",
       "      <td>8202995933.47</td>\n",
       "    </tr>\n",
       "    <tr>\n",
       "      <th>4</th>\n",
       "      <td>001 - TESOURO-DOT.INICIAL E CRED.SUPLEMENTAR</td>\n",
       "      <td>31900119 - ATRASADOS-OUTROS PODERES/MINIST.PUB...</td>\n",
       "      <td>79760504.67</td>\n",
       "      <td>11180122 - IPVA - MULTAS E  JUROS</td>\n",
       "      <td>6927.39</td>\n",
       "    </tr>\n",
       "    <tr>\n",
       "      <th>...</th>\n",
       "      <td>...</td>\n",
       "      <td>...</td>\n",
       "      <td>...</td>\n",
       "      <td>...</td>\n",
       "      <td>...</td>\n",
       "    </tr>\n",
       "    <tr>\n",
       "      <th>63338</th>\n",
       "      <td>087 - OP.CRED.CONTR.EXTERIOR-DOT.INIC.CR.SUP-I...</td>\n",
       "      <td>44905112 - INSTALACOES</td>\n",
       "      <td>2545097.24</td>\n",
       "      <td>89100011 - INTEGRALIZACAO CAPITAL SOCIAL-PRINC...</td>\n",
       "      <td>46441531.83</td>\n",
       "    </tr>\n",
       "    <tr>\n",
       "      <th>63339</th>\n",
       "      <td>087 - OP.CRED.CONTR.EXTERIOR-DOT.INIC.CR.SUP-I...</td>\n",
       "      <td>44905130 - EXECUCAO DE OBRAS E INSTALACOES</td>\n",
       "      <td>32829959.39</td>\n",
       "      <td>89100011 - INTEGRALIZACAO CAPITAL SOCIAL-PRINC...</td>\n",
       "      <td>46441531.83</td>\n",
       "    </tr>\n",
       "    <tr>\n",
       "      <th>63340</th>\n",
       "      <td>087 - OP.CRED.CONTR.EXTERIOR-DOT.INIC.CR.SUP-I...</td>\n",
       "      <td>44905210 - VEICULOS DIVERSOS</td>\n",
       "      <td>755209.26</td>\n",
       "      <td>89100011 - INTEGRALIZACAO CAPITAL SOCIAL-PRINC...</td>\n",
       "      <td>46441531.83</td>\n",
       "    </tr>\n",
       "    <tr>\n",
       "      <th>63341</th>\n",
       "      <td>087 - OP.CRED.CONTR.EXTERIOR-DOT.INIC.CR.SUP-I...</td>\n",
       "      <td>44905234 - OUTROS EQUIPAMENTOS E MATERIAL PERM...</td>\n",
       "      <td>2098500.00</td>\n",
       "      <td>89100011 - INTEGRALIZACAO CAPITAL SOCIAL-PRINC...</td>\n",
       "      <td>46441531.83</td>\n",
       "    </tr>\n",
       "    <tr>\n",
       "      <th>63342</th>\n",
       "      <td>099 - EXTRA ORCAMENTARIA</td>\n",
       "      <td>NaN</td>\n",
       "      <td>NaN</td>\n",
       "      <td>13210011 - REMUNERACAO  DEPOSITOS BANCARIOS - ...</td>\n",
       "      <td>0.00</td>\n",
       "    </tr>\n",
       "  </tbody>\n",
       "</table>\n",
       "<p>63343 rows × 5 columns</p>\n",
       "</div>"
      ],
      "text/plain": [
       "                                       Fonte de Recursos  \\\n",
       "0           001 - TESOURO-DOT.INICIAL E CRED.SUPLEMENTAR   \n",
       "1           001 - TESOURO-DOT.INICIAL E CRED.SUPLEMENTAR   \n",
       "2           001 - TESOURO-DOT.INICIAL E CRED.SUPLEMENTAR   \n",
       "3           001 - TESOURO-DOT.INICIAL E CRED.SUPLEMENTAR   \n",
       "4           001 - TESOURO-DOT.INICIAL E CRED.SUPLEMENTAR   \n",
       "...                                                  ...   \n",
       "63338  087 - OP.CRED.CONTR.EXTERIOR-DOT.INIC.CR.SUP-I...   \n",
       "63339  087 - OP.CRED.CONTR.EXTERIOR-DOT.INIC.CR.SUP-I...   \n",
       "63340  087 - OP.CRED.CONTR.EXTERIOR-DOT.INIC.CR.SUP-I...   \n",
       "63341  087 - OP.CRED.CONTR.EXTERIOR-DOT.INIC.CR.SUP-I...   \n",
       "63342                           099 - EXTRA ORCAMENTARIA   \n",
       "\n",
       "                                                 Despesa   Liquidado  \\\n",
       "0      31900119 - ATRASADOS-OUTROS PODERES/MINIST.PUB... 79760504.67   \n",
       "1      31900119 - ATRASADOS-OUTROS PODERES/MINIST.PUB... 79760504.67   \n",
       "2      31900119 - ATRASADOS-OUTROS PODERES/MINIST.PUB... 79760504.67   \n",
       "3      31900119 - ATRASADOS-OUTROS PODERES/MINIST.PUB... 79760504.67   \n",
       "4      31900119 - ATRASADOS-OUTROS PODERES/MINIST.PUB... 79760504.67   \n",
       "...                                                  ...         ...   \n",
       "63338                             44905112 - INSTALACOES  2545097.24   \n",
       "63339         44905130 - EXECUCAO DE OBRAS E INSTALACOES 32829959.39   \n",
       "63340                       44905210 - VEICULOS DIVERSOS   755209.26   \n",
       "63341  44905234 - OUTROS EQUIPAMENTOS E MATERIAL PERM...  2098500.00   \n",
       "63342                                                NaN         NaN   \n",
       "\n",
       "                                                 Receita  \\\n",
       "0      11130111 - IRRF - IMP.RENDA PESSOA FISICA-PRIN...   \n",
       "1      11130311 - IRRF-IMP. RENDA RET. FTE-TRABALHO-P...   \n",
       "2           11130341 - IRRF-OUTROS RENDIMENTOS-PRINCIPAL   \n",
       "3      11180121 - IPVA - IMP. PROPR. VEIC. AUTOM  - P...   \n",
       "4                      11180122 - IPVA - MULTAS E  JUROS   \n",
       "...                                                  ...   \n",
       "63338  89100011 - INTEGRALIZACAO CAPITAL SOCIAL-PRINC...   \n",
       "63339  89100011 - INTEGRALIZACAO CAPITAL SOCIAL-PRINC...   \n",
       "63340  89100011 - INTEGRALIZACAO CAPITAL SOCIAL-PRINC...   \n",
       "63341  89100011 - INTEGRALIZACAO CAPITAL SOCIAL-PRINC...   \n",
       "63342  13210011 - REMUNERACAO  DEPOSITOS BANCARIOS - ...   \n",
       "\n",
       "       Arrecadado até 02/02/2024  \n",
       "0                  4267858335.83  \n",
       "1                  4323772997.93  \n",
       "2                   123071158.14  \n",
       "3                  8202995933.47  \n",
       "4                        6927.39  \n",
       "...                          ...  \n",
       "63338                46441531.83  \n",
       "63339                46441531.83  \n",
       "63340                46441531.83  \n",
       "63341                46441531.83  \n",
       "63342                       0.00  \n",
       "\n",
       "[63343 rows x 5 columns]"
      ]
     },
     "execution_count": 40,
     "metadata": {},
     "output_type": "execute_result"
    }
   ],
   "source": [
    "df_merge"
   ]
  },
  {
   "cell_type": "markdown",
   "metadata": {},
   "source": [
    "**Load**\n"
   ]
  },
  {
   "cell_type": "code",
   "execution_count": 41,
   "metadata": {},
   "outputs": [],
   "source": [
    "import pyodbc\n",
    "from sqlalchemy import create_engine"
   ]
  },
  {
   "cell_type": "code",
   "execution_count": 42,
   "metadata": {},
   "outputs": [],
   "source": [
    "#Criar a conexão com o banco SQL Server\n",
    "conn = pyodbc.connect(\n",
    "    'DRIVER={ODBC Driver 17 for SQL Server};'\n",
    "    'SERVER=BRUNA;'\n",
    "    'DATABASE=dados_gov;'\n",
    "    'UID=Bruna;'\n",
    "    'Trusted_Connection=yes;'   \n",
    ")\n",
    "\n",
    "# Criar o engine do SQLAlchemy\n",
    "engine = create_engine('mssql+pyodbc://', creator=lambda: conn)\n",
    "\n",
    "\n",
    "# Salvar o DataFrame em tabela do SQL Server\n",
    "despesas.to_sql('despesas', engine, if_exists='replace', index=False)\n",
    "receitas.to_sql('receitas', engine, if_exists='replace', index=False)\n",
    "df_merge.to_sql('despesas_receitas', engine, if_exists='replace', index=False)\n",
    "\n",
    "# Fechar a conexão pyodbc\n",
    "conn.close()\n"
   ]
  },
  {
   "cell_type": "code",
   "execution_count": null,
   "metadata": {},
   "outputs": [],
   "source": []
  }
 ],
 "metadata": {
  "kernelspec": {
   "display_name": "base",
   "language": "python",
   "name": "python3"
  },
  "language_info": {
   "codemirror_mode": {
    "name": "ipython",
    "version": 3
   },
   "file_extension": ".py",
   "mimetype": "text/x-python",
   "name": "python",
   "nbconvert_exporter": "python",
   "pygments_lexer": "ipython3",
   "version": "3.11.5"
  }
 },
 "nbformat": 4,
 "nbformat_minor": 2
}
